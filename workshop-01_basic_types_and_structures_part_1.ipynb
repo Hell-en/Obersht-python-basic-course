{
 "cells": [
  {
   "cell_type": "markdown",
   "id": "5c258e2b",
   "metadata": {},
   "source": [
    "# Workshop 1: Базовые типы и структуры. Часть 1"
   ]
  },
  {
   "cell_type": "markdown",
   "id": "46e98e1c",
   "metadata": {},
   "source": [
    "## 1. Условный оператор `if-else`, циклы `for` и `while`"
   ]
  },
  {
   "cell_type": "markdown",
   "id": "a695bf38",
   "metadata": {},
   "source": [
    "#### 1.1. Запросить число `n` от пользователя и вычислить сумму всех чисел от 1 до `n`, включая `n`."
   ]
  },
  {
   "cell_type": "code",
   "execution_count": 15,
   "id": "5df6cb33",
   "metadata": {},
   "outputs": [
    {
     "name": "stdin",
     "output_type": "stream",
     "text": [
      "enter n:  5\n"
     ]
    },
    {
     "name": "stdout",
     "output_type": "stream",
     "text": [
      "15\n"
     ]
    }
   ],
   "source": [
    "n = int(input(\"enter n: \"))\n",
    "summ = 0\n",
    "for i in range(1, n+1):\n",
    "    summ += i\n",
    "print(summ)"
   ]
  },
  {
   "cell_type": "markdown",
   "id": "5835ac87",
   "metadata": {},
   "source": [
    "#### 1.2. Отобразить числа от -10 до -1, используя цикл `for`."
   ]
  },
  {
   "cell_type": "code",
   "execution_count": 16,
   "id": "2970679f",
   "metadata": {
    "scrolled": true
   },
   "outputs": [
    {
     "name": "stdout",
     "output_type": "stream",
     "text": [
      "-10\n",
      "-9\n",
      "-8\n",
      "-7\n",
      "-6\n",
      "-5\n",
      "-4\n",
      "-3\n",
      "-2\n",
      "-1\n"
     ]
    }
   ],
   "source": [
    "for i in range(-10, 0):\n",
    "    print(i)"
   ]
  },
  {
   "cell_type": "markdown",
   "id": "075cc101",
   "metadata": {},
   "source": [
    "#### 1.3. Получив на вход список, итеративно пройти по нему и вывести числа, которые делятся на 5. Если в процессе итераций встретится число, большее 120, остановить цикл."
   ]
  },
  {
   "cell_type": "code",
   "execution_count": 1,
   "id": "06165d24",
   "metadata": {},
   "outputs": [
    {
     "name": "stdout",
     "output_type": "stream",
     "text": [
      "85\n"
     ]
    }
   ],
   "source": [
    "import random\n",
    "lenght = 10\n",
    "randlist = [random.randint(0, 150) for x in range(lenght)]\n",
    "for i in randlist:\n",
    "    if i <= 120:\n",
    "        if i % 5 == 0:\n",
    "            print(i)\n",
    "    else: break"
   ]
  },
  {
   "cell_type": "markdown",
   "id": "6d459f21",
   "metadata": {},
   "source": [
    "#### 1.4. Вывести в консоль следующий паттерн:\n",
    "```\n",
    "5 4 3 2 1\n",
    "4 3 2 1\n",
    "3 2 1\n",
    "2 1\n",
    "1\n",
    "```"
   ]
  },
  {
   "cell_type": "code",
   "execution_count": 2,
   "id": "8cc5516a",
   "metadata": {},
   "outputs": [
    {
     "name": "stdout",
     "output_type": "stream",
     "text": [
      "5 4 3 2 1 \n",
      "4 3 2 1 \n",
      "3 2 1 \n",
      "2 1 \n",
      "1 \n"
     ]
    }
   ],
   "source": [
    "detlist = [5, 4, 3, 2, 1]\n",
    "while detlist != []:\n",
    "    for i in detlist:\n",
    "        print (i, end = ' ')\n",
    "    print()\n",
    "    detlist = detlist[1:]"
   ]
  },
  {
   "cell_type": "markdown",
   "id": "f96046bb",
   "metadata": {},
   "source": [
    "#### 1.5. Получив на вход целочисленное число (`int`), определить общее число цифр в нем."
   ]
  },
  {
   "cell_type": "code",
   "execution_count": 9,
   "id": "b31c6a36",
   "metadata": {},
   "outputs": [
    {
     "name": "stdin",
     "output_type": "stream",
     "text": [
      "enter n:  1285946\n"
     ]
    },
    {
     "name": "stdout",
     "output_type": "stream",
     "text": [
      "7\n"
     ]
    }
   ],
   "source": [
    "n = input(\"enter n: \")\n",
    "print(len(n))"
   ]
  },
  {
   "cell_type": "markdown",
   "id": "1d5230ab",
   "metadata": {},
   "source": [
    "#### 1.6. Получив на вход список (`list`), обратить его с помощью цикла `for`"
   ]
  },
  {
   "cell_type": "code",
   "execution_count": 3,
   "id": "42f1f62f",
   "metadata": {},
   "outputs": [
    {
     "name": "stdout",
     "output_type": "stream",
     "text": [
      "[7, 9, 5, 8, 3, 4, 1]\n"
     ]
    }
   ],
   "source": [
    "detlist = [1,4,3,8,5,9,7]\n",
    "for i in range(len(detlist)//2):\n",
    "    detlist[i], detlist[len(detlist) - 1 - i] = detlist[len(detlist) - 1 - i], detlist[i]\n",
    "print(detlist)"
   ]
  },
  {
   "cell_type": "markdown",
   "id": "9c249bbe",
   "metadata": {},
   "source": [
    "#### 1.7. Написать произвольный цикл, содержащий условие внтури, и вывести сообщение \"Done\" в случае, если условие ни разу не выполнилось. NOTE: не используя дополнительные переменные."
   ]
  },
  {
   "cell_type": "code",
   "execution_count": null,
   "id": "e6db7d8d",
   "metadata": {},
   "outputs": [],
   "source": [
    "for i in range(10):\n",
    "    if i == 10:\n",
    "        print(\"Wow\")\n",
    "if i == 9: #прошли весь цикл без выхода\n",
    "    print(\"Done\")"
   ]
  },
  {
   "cell_type": "markdown",
   "id": "49141bf4",
   "metadata": {},
   "source": [
    "## 2. Функции, аргументы функций, встроенные функции"
   ]
  },
  {
   "cell_type": "markdown",
   "id": "da923fbf",
   "metadata": {},
   "source": [
    "#### 2.1. Напишите функцию `calculation()` таким образом, чтобы она могла принимать две переменные и вычислять их сложение и вычитание. А также она должна возвращать как сложение, так и вычитание за один вызов."
   ]
  },
  {
   "cell_type": "code",
   "execution_count": 11,
   "id": "12865084",
   "metadata": {},
   "outputs": [
    {
     "name": "stdout",
     "output_type": "stream",
     "text": [
      "(5, -1)\n"
     ]
    }
   ],
   "source": [
    "def calculation(a, b):\n",
    "    return a+b, a-b\n",
    "\n",
    "print(calculation(2, 3))"
   ]
  },
  {
   "cell_type": "markdown",
   "id": "b3aad320",
   "metadata": {},
   "source": [
    "#### 2.2. Напишите функцию `showEmployee()` таким образом, чтобы она принимала имя сотрудника и его зарплату и отображала и то, и другое. А если зарплата отсутствует при вызове функции, функция должна отображать ее равную 9000."
   ]
  },
  {
   "cell_type": "code",
   "execution_count": 4,
   "id": "1985780b",
   "metadata": {},
   "outputs": [
    {
     "name": "stdout",
     "output_type": "stream",
     "text": [
      "Jack 200\n",
      "Jack 9000\n"
     ]
    }
   ],
   "source": [
    "def showEmployee(name, salary=9000):\n",
    "    print(name, salary)\n",
    "\n",
    "showEmployee(\"Jack\", 200)\n",
    "showEmployee(\"Jack\")"
   ]
  },
  {
   "cell_type": "markdown",
   "id": "19197ff0",
   "metadata": {},
   "source": [
    "#### 2.3. Напишите рекурсивную функцию для вычисления чисел от 0 до 10."
   ]
  },
  {
   "cell_type": "code",
   "execution_count": 6,
   "id": "792607dd",
   "metadata": {},
   "outputs": [
    {
     "name": "stdout",
     "output_type": "stream",
     "text": [
      "0\n",
      "1\n",
      "2\n",
      "3\n",
      "4\n",
      "5\n",
      "6\n",
      "7\n",
      "8\n",
      "9\n",
      "10\n"
     ]
    }
   ],
   "source": [
    "def recur(n):\n",
    "    if n <= 10:\n",
    "        print(n)\n",
    "        recur(n+1)\n",
    "\n",
    "recur(0)"
   ]
  },
  {
   "cell_type": "markdown",
   "id": "36080579",
   "metadata": {},
   "source": [
    "#### 2.4. Напишите функцию таким образом, чтобы она могла принимать переменное количество аргументов и выводить значение всех этих аргументов."
   ]
  },
  {
   "cell_type": "code",
   "execution_count": 9,
   "id": "e914b52b",
   "metadata": {},
   "outputs": [
    {
     "name": "stdout",
     "output_type": "stream",
     "text": [
      "1\n",
      "3\n"
     ]
    }
   ],
   "source": [
    "def func(*args):\n",
    "    for i in args:\n",
    "        print(i)\n",
    "\n",
    "func(1, 3)"
   ]
  },
  {
   "cell_type": "markdown",
   "id": "75b4d257",
   "metadata": {},
   "source": [
    "#### 2.5. Напишите произвольную функцию, после этого присвойте ей другое имя, а затем вызовите ее с помощью нового имени."
   ]
  },
  {
   "cell_type": "code",
   "execution_count": 17,
   "id": "64f882f3",
   "metadata": {},
   "outputs": [
    {
     "name": "stdout",
     "output_type": "stream",
     "text": [
      "1b\n"
     ]
    }
   ],
   "source": [
    "import os\n",
    "\n",
    "def func(a):\n",
    "    print(a + \"b\")\n",
    "\n",
    "funct = func\n",
    "funct(\"1\")"
   ]
  },
  {
   "cell_type": "markdown",
   "id": "a6a9ec34",
   "metadata": {},
   "source": [
    "#### 2.6. Сгенерируйте список всех четных чисел от 4 до 40."
   ]
  },
  {
   "cell_type": "code",
   "execution_count": 19,
   "id": "9b3e0a72",
   "metadata": {},
   "outputs": [
    {
     "name": "stdout",
     "output_type": "stream",
     "text": [
      "[4, 6, 8, 10, 12, 14, 16, 18, 20, 22, 24, 26, 28, 30, 32, 34, 36, 38, 40]\n"
     ]
    }
   ],
   "source": [
    "evenlist = []\n",
    "for i in range(4, 41):\n",
    "    if i % 2 == 0:\n",
    "        evenlist.append(i)\n",
    "print(evenlist)"
   ]
  },
  {
   "cell_type": "markdown",
   "id": "514a3c3d",
   "metadata": {},
   "source": [
    "#### 2.7. Вернуть наибольший элемент из произвольного списка"
   ]
  },
  {
   "cell_type": "code",
   "execution_count": 10,
   "id": "a9a0c263",
   "metadata": {},
   "outputs": [
    {
     "name": "stdout",
     "output_type": "stream",
     "text": [
      "66\n"
     ]
    }
   ],
   "source": [
    "detlist = [4, 66, 34, 8, 9, -3, 48]\n",
    "print(max(detlist))"
   ]
  },
  {
   "cell_type": "markdown",
   "id": "e4227158",
   "metadata": {},
   "source": [
    "## 3. Строки и операции над ними"
   ]
  },
  {
   "cell_type": "markdown",
   "id": "4b35ffba",
   "metadata": {},
   "source": [
    "#### 3.1. Получив на вход строку нечетной длины, вернуть строку, состоящую из трех стредних символов этой строки."
   ]
  },
  {
   "cell_type": "code",
   "execution_count": 32,
   "id": "7d46fc37",
   "metadata": {
    "scrolled": true
   },
   "outputs": [
    {
     "name": "stdout",
     "output_type": "stream",
     "text": [
      "lhf\n"
     ]
    }
   ],
   "source": [
    "str = \"sjhglhfbk\"\n",
    "mid = (len(str))//2\n",
    "str2 = str[mid:mid+3]\n",
    "print(str2)"
   ]
  },
  {
   "cell_type": "markdown",
   "id": "92f1c30c",
   "metadata": {},
   "source": [
    "#### 3.2. Получив на вход 2 строки `s1` и `s2`, создать новую строку, добавив `s2` в середину `s1`."
   ]
  },
  {
   "cell_type": "code",
   "execution_count": 34,
   "id": "fa368156",
   "metadata": {},
   "outputs": [
    {
     "name": "stdin",
     "output_type": "stream",
     "text": [
      "enter str1:  abc\n",
      "enter str2:  1234\n"
     ]
    },
    {
     "name": "stdout",
     "output_type": "stream",
     "text": [
      "ab1234c\n"
     ]
    }
   ],
   "source": [
    "str1 = input(\"enter str1: \")\n",
    "str2 = input(\"enter str2: \")\n",
    "mids1 = (len(str1))//2\n",
    "str3 = str1[0:mids1+1] + str2 + str1[mids1+1:]\n",
    "print(str3)"
   ]
  },
  {
   "cell_type": "markdown",
   "id": "fdfe7136",
   "metadata": {},
   "source": [
    "#### 3.3. Расположить строковые символы в произвольной строке таким образом, чтобы строчные буквы были первыми."
   ]
  },
  {
   "cell_type": "code",
   "execution_count": 10,
   "id": "6f274712",
   "metadata": {},
   "outputs": [
    {
     "name": "stdout",
     "output_type": "stream",
     "text": [
      "NPQHjhv7olbmtyyy@\n"
     ]
    }
   ],
   "source": [
    "detstr = \"jhv7HQolPbNmtyyy@\"\n",
    "resstr = detstr[0]\n",
    "for i in detstr[1:]:\n",
    "    if i.isupper():\n",
    "        resstr = i + resstr\n",
    "    else:\n",
    "        resstr += i\n",
    "print(resstr)"
   ]
  },
  {
   "cell_type": "markdown",
   "id": "7238f24d",
   "metadata": {},
   "source": [
    "#### 3.4. Получив на вход строку, посчитать количество строчных и заглавных букв, цифр и специальных символов."
   ]
  },
  {
   "cell_type": "code",
   "execution_count": 8,
   "id": "a581f214",
   "metadata": {},
   "outputs": [
    {
     "name": "stdout",
     "output_type": "stream",
     "text": [
      "4 15 5 2\n"
     ]
    }
   ],
   "source": [
    "detstr = \"jhv7HQolPbNmtyy y@74hfd4u4\"\n",
    "countlow = 0\n",
    "countup = 0\n",
    "countnum = 0\n",
    "countspec = 0\n",
    "for i in detstr:\n",
    "    if i.isupper(): countup += 1\n",
    "    elif i.islower(): countlow += 1\n",
    "    elif i.isnumeric(): countnum += 1\n",
    "    else: countspec += 1\n",
    "print(countup, countlow, countnum, countspec)"
   ]
  },
  {
   "cell_type": "markdown",
   "id": "9791e5e7",
   "metadata": {},
   "source": [
    "#### 3.5. Найдите все вхождения слова \"Python\" в заданной строке, игнорируя регистр."
   ]
  },
  {
   "cell_type": "code",
   "execution_count": 24,
   "id": "77351b7e",
   "metadata": {},
   "outputs": [
    {
     "name": "stdout",
     "output_type": "stream",
     "text": [
      "2\n"
     ]
    }
   ],
   "source": [
    "import re\n",
    "detstr = \"fjhpythonlsjdfupyTHjdpythonf\"\n",
    "print((re.findall(\"python\", detstr, re.I)).count(\"python\"))"
   ]
  },
  {
   "cell_type": "markdown",
   "id": "96f1aae1",
   "metadata": {},
   "source": [
    "#### 3.6. Получив на вход строку, состоящую из букв и цифр, вернуть сумму и среднее значение чисел, которые повляются в ней, игнорируя все остальные символы."
   ]
  },
  {
   "cell_type": "code",
   "execution_count": 26,
   "id": "44f2df97",
   "metadata": {},
   "outputs": [
    {
     "name": "stdout",
     "output_type": "stream",
     "text": [
      "summ =  24 aver =  4.8\n"
     ]
    }
   ],
   "source": [
    "detstr = \"gjh48ruhj390\"\n",
    "summ = 0\n",
    "aver = 0\n",
    "for i in detstr:\n",
    "    if i.isnumeric():\n",
    "        summ += int(i)\n",
    "        aver += 1\n",
    "print(\"summ = \", summ, \"aver = \", summ / aver)"
   ]
  },
  {
   "cell_type": "markdown",
   "id": "7d5e0a98",
   "metadata": {},
   "source": [
    "#### 3.7. Получив на вход произвольную строку, подсчитать количество вхождений всех символов в этой строке."
   ]
  },
  {
   "cell_type": "code",
   "execution_count": 33,
   "id": "b5ec33cf",
   "metadata": {},
   "outputs": [
    {
     "name": "stdout",
     "output_type": "stream",
     "text": [
      "{'g': 1, 'j': 2, 'h': 2, '4': 1, '8': 1, 'r': 1, 'u': 1, '3': 1, '9': 1, '0': 1}\n"
     ]
    }
   ],
   "source": [
    "detstr = \"gjh48ruhj390\"\n",
    "countstr = {}\n",
    "#detstr = list(detstr)\n",
    "for i in detstr:\n",
    "    countstr[i] = countstr.get(i, 0) + 1\n",
    "   # j += 1\n",
    "print(countstr)"
   ]
  },
  {
   "cell_type": "code",
   "execution_count": null,
   "id": "14eaddb8-e364-41e2-9619-f5b112ad443a",
   "metadata": {},
   "outputs": [],
   "source": []
  }
 ],
 "metadata": {
  "kernelspec": {
   "display_name": "Python 3 (ipykernel)",
   "language": "python",
   "name": "python3"
  },
  "language_info": {
   "codemirror_mode": {
    "name": "ipython",
    "version": 3
   },
   "file_extension": ".py",
   "mimetype": "text/x-python",
   "name": "python",
   "nbconvert_exporter": "python",
   "pygments_lexer": "ipython3",
   "version": "3.10.11"
  }
 },
 "nbformat": 4,
 "nbformat_minor": 5
}
