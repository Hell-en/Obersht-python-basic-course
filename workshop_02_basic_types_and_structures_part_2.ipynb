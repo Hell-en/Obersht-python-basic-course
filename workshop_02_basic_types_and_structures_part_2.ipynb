{
 "cells": [
  {
   "cell_type": "markdown",
   "id": "ad7bf64f",
   "metadata": {},
   "source": [
    "# Workshop 2: Базовые типы и структуры. Часть 2"
   ]
  },
  {
   "cell_type": "markdown",
   "id": "a69be5ea",
   "metadata": {},
   "source": [
    "## 1. Списки (`list`)"
   ]
  },
  {
   "cell_type": "markdown",
   "id": "37778160",
   "metadata": {},
   "source": [
    "#### 1.1. Создать новый список, состоящий из квадратов чисел данного списка:\n"
   ]
  },
  {
   "cell_type": "code",
   "execution_count": 1,
   "id": "10aa654f",
   "metadata": {
    "ExecuteTime": {
     "end_time": "2023-09-22T09:21:11.156190Z",
     "start_time": "2023-09-22T09:21:11.145018Z"
    }
   },
   "outputs": [
    {
     "name": "stdout",
     "output_type": "stream",
     "text": [
      "[1, 4, 9, 16, 25]\n"
     ]
    }
   ],
   "source": [
    "input_list = [1, 2, 3, 4, 5]\n",
    "outlist =[]\n",
    "for i in input_list:\n",
    "    outlist.append(i*i)\n",
    "print(outlist)"
   ]
  },
  {
   "cell_type": "markdown",
   "id": "bfb515eb",
   "metadata": {},
   "source": [
    "#### 1.2. Соединить два следующих списка поэлементно - каждую пару строк объединить в одну и собрать в единый список:"
   ]
  },
  {
   "cell_type": "code",
   "execution_count": 2,
   "id": "703ec88d",
   "metadata": {
    "ExecuteTime": {
     "end_time": "2023-09-22T09:21:11.169025Z",
     "start_time": "2023-09-22T09:21:11.165385Z"
    }
   },
   "outputs": [
    {
     "name": "stdout",
     "output_type": "stream",
     "text": [
      "['My', 'name', 'is', 'Kelly']\n"
     ]
    }
   ],
   "source": [
    "fisrt_list = ['M', 'na', 'i', 'Ke']\n",
    "second_list = ['y', 'me', 's', 'lly']\n",
    "third = []\n",
    "for i in range(len(fisrt_list)):\n",
    "    third.append(fisrt_list[i] + second_list[i])\n",
    "print(third)"
   ]
  },
  {
   "cell_type": "markdown",
   "id": "b5799b9e",
   "metadata": {},
   "source": [
    "#### 1.3. Получив на вход два списка, проитерируйтесь по ним одновременно, причем так, чтобы элементы первого списка были в прямом порядка, а элементы второго - в обратном:"
   ]
  },
  {
   "cell_type": "code",
   "execution_count": 10,
   "id": "fa417fee",
   "metadata": {
    "ExecuteTime": {
     "end_time": "2023-09-22T09:21:11.185087Z",
     "start_time": "2023-09-22T09:21:11.177443Z"
    }
   },
   "outputs": [
    {
     "name": "stdout",
     "output_type": "stream",
     "text": [
      "a   4\n",
      "b   3\n",
      "c   2\n",
      "d   1\n"
     ]
    }
   ],
   "source": [
    "fisrt_list = ['a', 'b', 'c', 'd']\n",
    "second_list = [1, 2, 3, 4]\n",
    "for i in range(4):\n",
    "    print(fisrt_list[i], \" \", second_list[-1-i]) #as same as reverse()"
   ]
  },
  {
   "cell_type": "markdown",
   "id": "3c583044",
   "metadata": {},
   "source": [
    "#### 1.4. Удалить пустые строки из следующего списка строк:"
   ]
  },
  {
   "cell_type": "code",
   "execution_count": 4,
   "id": "324d175d",
   "metadata": {
    "ExecuteTime": {
     "end_time": "2023-09-22T09:21:11.197434Z",
     "start_time": "2023-09-22T09:21:11.193392Z"
    }
   },
   "outputs": [
    {
     "name": "stdout",
     "output_type": "stream",
     "text": [
      "['Python', 'is', 'a', 'beautiful', 'language']\n"
     ]
    }
   ],
   "source": [
    "input_list = ['Python', 'is', 'a', '', 'beautiful', '', '', 'language']\n",
    "for i in range(input_list.count('')):\n",
    "    input_list.remove('')\n",
    "print(input_list)"
   ]
  },
  {
   "cell_type": "markdown",
   "id": "edce0192",
   "metadata": {},
   "source": [
    "#### 1.5. Добавить элемент `7000` после `6000` в следующем списке:"
   ]
  },
  {
   "cell_type": "code",
   "execution_count": 13,
   "id": "85a4a01c",
   "metadata": {
    "ExecuteTime": {
     "end_time": "2023-09-22T09:21:11.209923Z",
     "start_time": "2023-09-22T09:21:11.206614Z"
    }
   },
   "outputs": [
    {
     "name": "stdout",
     "output_type": "stream",
     "text": [
      "<class 'list'>\n",
      "[10, 20, [300, 400, [5000, 6000, 7000], 500], 30, 40]\n"
     ]
    }
   ],
   "source": [
    "input_list = [10, 20, [300, 400, [5000, 6000], 500], 30, 40]\n",
    "print(type(input_list))\n",
    "for i in input_list:\n",
    "    if (isinstance(i, list)):\n",
    "        for j in i:\n",
    "            if (isinstance(j, list)): #if we know the depth\n",
    "                j.append(7000)\n",
    "\n",
    "print(input_list)"
   ]
  },
  {
   "cell_type": "markdown",
   "id": "3f4a6af1",
   "metadata": {},
   "source": [
    "#### 1.6. Вставить подсписок `['h', 'i', 'j']` в следующий список списков таким образом, чтобы результат совпал с ожидаемым:"
   ]
  },
  {
   "cell_type": "code",
   "execution_count": null,
   "id": "294b79ec",
   "metadata": {
    "ExecuteTime": {
     "end_time": "2023-09-22T09:21:11.233837Z",
     "start_time": "2023-09-22T09:21:11.228088Z"
    }
   },
   "outputs": [],
   "source": [
    "expected_list = ['a', 'b', ['c', ['d', 'e', ['f', 'g', 'h', 'i', 'j'], 'k'], 'l'], 'm', 'n']\n",
    "expected_list"
   ]
  },
  {
   "cell_type": "code",
   "execution_count": 6,
   "id": "79073d35",
   "metadata": {
    "ExecuteTime": {
     "end_time": "2023-09-22T09:21:11.270008Z",
     "start_time": "2023-09-22T09:21:11.265116Z"
    }
   },
   "outputs": [
    {
     "name": "stdout",
     "output_type": "stream",
     "text": [
      "['a', 'b', ['c', ['d', 'e', ['f', 'g', 'h', 'i', 'j'], 'k'], 'l'], 'm', 'n']\n"
     ]
    }
   ],
   "source": [
    "input_list = ['a', 'b', ['c', ['d', 'e', ['f', 'g'], 'k'], 'l'], 'm', 'n']\n",
    "\n",
    "input_list[2][1][2] += ['h', 'i', 'j']\n",
    "print(input_list)"
   ]
  },
  {
   "cell_type": "markdown",
   "id": "93a748af",
   "metadata": {},
   "source": [
    "#### 1.7. Получив на вход список, найти в нем элемент `20`, и если он присутсвует, заменить его на `200`. Необходимо обновить только первое вхождение в список:"
   ]
  },
  {
   "cell_type": "code",
   "execution_count": 15,
   "id": "0167f451",
   "metadata": {
    "ExecuteTime": {
     "end_time": "2023-09-22T09:21:11.270008Z",
     "start_time": "2023-09-22T09:21:11.265116Z"
    }
   },
   "outputs": [
    {
     "name": "stdout",
     "output_type": "stream",
     "text": [
      "[1, 55, 3321, 200, 8, 761, 20, 20, 0]\n"
     ]
    }
   ],
   "source": [
    "input_list = [1, 55, 3321, 20, 8, 761, 20, 20, 0]\n",
    "input_list[input_list.index(20)] = 200\n",
    "print(input_list)"
   ]
  },
  {
   "cell_type": "markdown",
   "id": "f8908e86",
   "metadata": {},
   "source": [
    "#### 1.8. Получив на вход список, удалить все вхождения элемента `20` из него:"
   ]
  },
  {
   "cell_type": "code",
   "execution_count": 18,
   "id": "12023b5a",
   "metadata": {
    "ExecuteTime": {
     "end_time": "2023-09-22T09:21:11.270008Z",
     "start_time": "2023-09-22T09:21:11.265116Z"
    }
   },
   "outputs": [
    {
     "name": "stdout",
     "output_type": "stream",
     "text": [
      "[1, 55, 3321, 8, 761, 20, 0]\n"
     ]
    }
   ],
   "source": [
    "input_list = [1, 55, 3321, 20, 8, 761, 20, 20, 0]\n",
    "ind = 0\n",
    "while i < len(input_list):\n",
    "    if input_list[i] == 20:\n",
    "        del input_list[i]\n",
    "    i += 1\n",
    "print(input_list)"
   ]
  },
  {
   "cell_type": "markdown",
   "id": "81095b7b",
   "metadata": {},
   "source": [
    "## 2. Словари (`dict`)"
   ]
  },
  {
   "cell_type": "markdown",
   "id": "c043104e",
   "metadata": {},
   "source": [
    "#### 2.1. Создать словарь их следующих двух списков:"
   ]
  },
  {
   "cell_type": "code",
   "execution_count": 18,
   "id": "05a26924",
   "metadata": {
    "ExecuteTime": {
     "end_time": "2023-09-22T09:21:11.398526Z",
     "start_time": "2023-09-22T09:21:11.394119Z"
    }
   },
   "outputs": [
    {
     "name": "stdout",
     "output_type": "stream",
     "text": [
      "{'Ten': 10, 'Twenty': 20, 'Thirty': 30}\n"
     ]
    }
   ],
   "source": [
    "keys = ['Ten', 'Twenty', 'Thirty']\n",
    "values = [10, 20, 30]\n",
    "D = dict(zip(keys, values))\n",
    "print(D)"
   ]
  },
  {
   "cell_type": "markdown",
   "id": "76956f6f",
   "metadata": {},
   "source": [
    "#### 2.2. Содинить два данных словаря в единый:"
   ]
  },
  {
   "cell_type": "code",
   "execution_count": 20,
   "id": "f0436fe7",
   "metadata": {
    "ExecuteTime": {
     "end_time": "2023-09-22T09:21:11.398526Z",
     "start_time": "2023-09-22T09:21:11.394119Z"
    }
   },
   "outputs": [
    {
     "name": "stdout",
     "output_type": "stream",
     "text": [
      "{'Ten': 10, 'Twenty': 20, 'Thirty': 30, 'Fourty': 40, 'Fifty': 50}\n"
     ]
    }
   ],
   "source": [
    "first_dict = {'Ten': 10, 'Twenty': 20, 'Thirty': 30}\n",
    "second_dict = {'Thirty': 30, 'Fourty': 40, 'Fifty': 50}\n",
    "D = {**first_dict, **second_dict}\n",
    "print(D)"
   ]
  },
  {
   "cell_type": "markdown",
   "id": "8df0f1d2",
   "metadata": {},
   "source": [
    "#### 2.3. Обратиться к элементу `history` в следующем словаре:"
   ]
  },
  {
   "cell_type": "code",
   "execution_count": 22,
   "id": "93e5119b",
   "metadata": {
    "ExecuteTime": {
     "end_time": "2023-09-22T09:21:11.300667Z",
     "start_time": "2023-09-22T09:21:11.296445Z"
    }
   },
   "outputs": [
    {
     "name": "stdout",
     "output_type": "stream",
     "text": [
      "80\n"
     ]
    }
   ],
   "source": [
    "sampleDict = { \n",
    "   \"class\":{ \n",
    "      \"student\":{ \n",
    "         \"name\":\"Mike\",\n",
    "         \"marks\":{ \n",
    "            \"physics\":70,\n",
    "            \"history\":80\n",
    "         }\n",
    "      }\n",
    "   }\n",
    "}\n",
    "print(sampleDict[\"class\"][\"student\"][\"marks\"][\"history\"])"
   ]
  },
  {
   "cell_type": "markdown",
   "id": "880e2e82",
   "metadata": {},
   "source": [
    "#### 2.4. Инициализировать словарь со значениями по умолчанию:"
   ]
  },
  {
   "cell_type": "code",
   "execution_count": null,
   "id": "263bb6c3",
   "metadata": {
    "ExecuteTime": {
     "end_time": "2023-09-22T09:21:11.313228Z",
     "start_time": "2023-09-22T09:21:11.308371Z"
    }
   },
   "outputs": [],
   "source": [
    "employees = ['Kelly', 'Emma', 'John']\n",
    "defaults = {'Application Developer', 8000}"
   ]
  },
  {
   "cell_type": "code",
   "execution_count": null,
   "id": "e404528f",
   "metadata": {
    "ExecuteTime": {
     "end_time": "2023-09-22T09:21:11.321349Z",
     "start_time": "2023-09-22T09:21:11.315078Z"
    }
   },
   "outputs": [],
   "source": [
    "expected_dict = {\n",
    "    'Kelly': {'Application Developer', 8000},\n",
    "    'Emma': {'Application Developer', 8000},\n",
    "    'John': {'Application Developer', 8000},\n",
    "}"
   ]
  },
  {
   "cell_type": "code",
   "execution_count": 22,
   "id": "a6ea6fc4",
   "metadata": {
    "ExecuteTime": {
     "end_time": "2023-09-22T09:21:11.398526Z",
     "start_time": "2023-09-22T09:21:11.394119Z"
    }
   },
   "outputs": [
    {
     "name": "stdout",
     "output_type": "stream",
     "text": [
      "{'Kelly': {8000, 'Application Developer'}, 'Emma': {8000, 'Application Developer'}, 'John': {8000, 'Application Developer'}}\n"
     ]
    }
   ],
   "source": [
    "employees = ['Kelly', 'Emma', 'John']\n",
    "defaults = {'Application Developer', 8000}\n",
    "D = dict.fromkeys(employees, defaults)\n",
    "print(D)"
   ]
  },
  {
   "cell_type": "markdown",
   "id": "bbc0ecc4",
   "metadata": {},
   "source": [
    "#### 2.5. Создать новый словарь, состоящий из указанных ключей и их значений другого словаря:"
   ]
  },
  {
   "cell_type": "code",
   "execution_count": 26,
   "id": "14e3f8f7",
   "metadata": {
    "ExecuteTime": {
     "end_time": "2023-09-22T09:21:11.398526Z",
     "start_time": "2023-09-22T09:21:11.394119Z"
    }
   },
   "outputs": [
    {
     "name": "stdout",
     "output_type": "stream",
     "text": [
      "{'name': 'Kelly', 'salary': 8000}\n"
     ]
    }
   ],
   "source": [
    "input_dict = {\n",
    "    'name': 'Kelly',\n",
    "    'age': 25,\n",
    "    'salary': 8000,\n",
    "    'city': 'New York',}\n",
    "keys = ['name', 'salary']\n",
    "\n",
    "newdict = {}\n",
    "for i in keys:\n",
    "    if i in input_dict.keys():\n",
    "        newdict[i] = input_dict[i]\n",
    "\n",
    "print(newdict)"
   ]
  },
  {
   "cell_type": "markdown",
   "id": "f18d4ebe",
   "metadata": {},
   "source": [
    "#### 2.6. Удалить из данного словаря элементы со следующими ключами:"
   ]
  },
  {
   "cell_type": "code",
   "execution_count": 27,
   "id": "1214ff20",
   "metadata": {
    "ExecuteTime": {
     "end_time": "2023-09-22T09:21:11.357434Z",
     "start_time": "2023-09-22T09:21:11.353227Z"
    }
   },
   "outputs": [
    {
     "name": "stdout",
     "output_type": "stream",
     "text": [
      "{'age': 25, 'city': 'New York'}\n"
     ]
    }
   ],
   "source": [
    "input_dict = {\n",
    "    'name': 'Kelly',\n",
    "    'age': 25,\n",
    "    'salary': 8000,\n",
    "    'city': 'New York',\n",
    "}\n",
    "keys = ['name', 'salary']\n",
    "\n",
    "for i in keys:\n",
    "    input_dict.pop(i)\n",
    "\n",
    "print(input_dict)"
   ]
  },
  {
   "cell_type": "markdown",
   "id": "ca2b9cd3",
   "metadata": {},
   "source": [
    "#### 2.7. Проверить, есть ли значение `200` в следующем словаре"
   ]
  },
  {
   "cell_type": "code",
   "execution_count": 28,
   "id": "6a9afd6d",
   "metadata": {
    "ExecuteTime": {
     "end_time": "2023-09-22T09:21:11.370497Z",
     "start_time": "2023-09-22T09:21:11.365140Z"
    }
   },
   "outputs": [
    {
     "name": "stdout",
     "output_type": "stream",
     "text": [
      "True\n"
     ]
    }
   ],
   "source": [
    "input_dict = {'a': 100, 'b': 200, 'c': 300}\n",
    "\n",
    "if 200 in input_dict.values():\n",
    "    print(\"True\")"
   ]
  },
  {
   "cell_type": "markdown",
   "id": "69df60c8",
   "metadata": {},
   "source": [
    "#### 2.8. Переименовать ключ `city` в `location` в следующем словаре:"
   ]
  },
  {
   "cell_type": "code",
   "execution_count": 29,
   "id": "2b472deb",
   "metadata": {
    "ExecuteTime": {
     "end_time": "2023-09-22T09:21:11.381447Z",
     "start_time": "2023-09-22T09:21:11.377478Z"
    }
   },
   "outputs": [
    {
     "name": "stdout",
     "output_type": "stream",
     "text": [
      "{'name': 'Kelly', 'age': 25, 'salary': 8000, 'location': 'New York'}\n"
     ]
    }
   ],
   "source": [
    "input_dict = {\n",
    "    'name': 'Kelly',\n",
    "    'age': 25,\n",
    "    'salary': 8000,\n",
    "    'city': 'New York',\n",
    "}\n",
    "\n",
    "input_dict['location'] = input_dict.pop('city')\n",
    "print(input_dict)"
   ]
  },
  {
   "cell_type": "markdown",
   "id": "59e1ee8c",
   "metadata": {},
   "source": [
    "#### 2.9. Вывести ключ, соответсвующий минимальному элементу следующего словаря:"
   ]
  },
  {
   "cell_type": "code",
   "execution_count": 32,
   "id": "a4347ed0",
   "metadata": {
    "ExecuteTime": {
     "end_time": "2023-09-22T09:21:11.392673Z",
     "start_time": "2023-09-22T09:21:11.388419Z"
    }
   },
   "outputs": [
    {
     "name": "stdout",
     "output_type": "stream",
     "text": [
      "Math\n"
     ]
    }
   ],
   "source": [
    "input_dict = {\n",
    "    'Physics': 82,\n",
    "    'Math': 65,\n",
    "    'history': 75,\n",
    "}\n",
    "\n",
    "for k, v in input_dict.items():\n",
    "        if v == min(input_dict.values()):\n",
    "            print(k)\n",
    "            break"
   ]
  },
  {
   "cell_type": "markdown",
   "id": "fda103c3",
   "metadata": {},
   "source": [
    "## 3. Множества (`set`) "
   ]
  },
  {
   "cell_type": "markdown",
   "id": "4483047e",
   "metadata": {},
   "source": [
    "#### 3.1. Добаить элемент списка к данному множеству:"
   ]
  },
  {
   "cell_type": "code",
   "execution_count": 34,
   "id": "5087d050",
   "metadata": {
    "ExecuteTime": {
     "end_time": "2023-09-22T09:21:11.404074Z",
     "start_time": "2023-09-22T09:21:11.399832Z"
    }
   },
   "outputs": [
    {
     "name": "stdout",
     "output_type": "stream",
     "text": [
      "{'Green', 'Orange', 'Black', 'Blue', 'Yellow', 'Red'}\n"
     ]
    }
   ],
   "source": [
    "input_set = {'Yellow', 'Orange', 'Black'}\n",
    "input_list = ['Blue', 'Green', 'Red']\n",
    "\n",
    "for i in input_list:\n",
    "    input_set.add(i)\n",
    "print(input_set)"
   ]
  },
  {
   "cell_type": "markdown",
   "id": "1ce0798e",
   "metadata": {},
   "source": [
    "#### 3.2. Получить множество общих элементов следующих списков:"
   ]
  },
  {
   "cell_type": "code",
   "execution_count": 37,
   "id": "4e436ea6",
   "metadata": {
    "ExecuteTime": {
     "end_time": "2023-09-22T09:21:11.415879Z",
     "start_time": "2023-09-22T09:21:11.411690Z"
    }
   },
   "outputs": [
    {
     "name": "stdout",
     "output_type": "stream",
     "text": [
      "{70, 40, 10, 50, 20, 60, 30}\n"
     ]
    }
   ],
   "source": [
    "first_list = [10, 20, 30, 40, 50]\n",
    "second_list = [30, 40, 50, 60, 70]\n",
    "\n",
    "commonset = set(first_list + second_list)\n",
    "print(commonlist)"
   ]
  },
  {
   "cell_type": "markdown",
   "id": "d9c04286",
   "metadata": {},
   "source": [
    "#### 3.3. Инициализировать новое множество, состоящее из всех элементов первого и второго списков без дубликатов:"
   ]
  },
  {
   "cell_type": "code",
   "execution_count": 38,
   "id": "5186e61a",
   "metadata": {
    "ExecuteTime": {
     "end_time": "2023-09-22T09:21:11.427943Z",
     "start_time": "2023-09-22T09:21:11.423851Z"
    }
   },
   "outputs": [
    {
     "name": "stdout",
     "output_type": "stream",
     "text": [
      "{70, 40, 10, 50, 20, 60, 30}\n"
     ]
    }
   ],
   "source": [
    "first_list = [10, 20, 30, 40, 50]\n",
    "second_list = [30, 40, 50, 60, 70]\n",
    "\n",
    "commonset = set(first_list + second_list)\n",
    "print(commonlist)"
   ]
  },
  {
   "cell_type": "markdown",
   "id": "7ed61ed5",
   "metadata": {},
   "source": [
    "#### 3.4. Обновить первый список таким образом, чтобы в нем остались только те элементы, которых нет во втором списке:"
   ]
  },
  {
   "cell_type": "code",
   "execution_count": 50,
   "id": "e9220c4d",
   "metadata": {
    "ExecuteTime": {
     "end_time": "2023-09-22T09:21:11.440351Z",
     "start_time": "2023-09-22T09:21:11.436063Z"
    }
   },
   "outputs": [
    {
     "name": "stdout",
     "output_type": "stream",
     "text": [
      "{10, 20}\n"
     ]
    }
   ],
   "source": [
    "first_list = [10, 20, 30, 40, 50]\n",
    "second_list = [30, 40, 50, 60, 70]\n",
    "resultlist = first_list\n",
    "\n",
    "for i in second_list:\n",
    "    if i in first_list:\n",
    "       # print(i)\n",
    "        resultlist.remove(i)\n",
    "      #  print(resultlist)\n",
    "commonset = set(resultlist)\n",
    "print(commonset)"
   ]
  },
  {
   "cell_type": "markdown",
   "id": "7df884da",
   "metadata": {},
   "source": [
    "#### 3.5. Удалить из следующего множества элементы `10`, `20`, `30` за одну операцию: "
   ]
  },
  {
   "cell_type": "code",
   "execution_count": 56,
   "id": "e8795982",
   "metadata": {
    "ExecuteTime": {
     "end_time": "2023-09-22T09:21:11.452411Z",
     "start_time": "2023-09-22T09:21:11.447912Z"
    }
   },
   "outputs": [
    {
     "name": "stdout",
     "output_type": "stream",
     "text": [
      "{40, 50}\n"
     ]
    }
   ],
   "source": [
    "input_set = {10, 20, 30, 40, 50}\n",
    "\n",
    "print(input_set.difference({10, 20, 30}))"
   ]
  },
  {
   "cell_type": "markdown",
   "id": "5044e5bd",
   "metadata": {},
   "source": [
    "#### 3.6. Получить множетсво всех элементов, которые принадлежать либо первому, либо второму списку, но не обоим:"
   ]
  },
  {
   "cell_type": "code",
   "execution_count": 57,
   "id": "3d724d22",
   "metadata": {
    "ExecuteTime": {
     "end_time": "2023-09-22T09:21:11.465330Z",
     "start_time": "2023-09-22T09:21:11.460869Z"
    }
   },
   "outputs": [
    {
     "name": "stdout",
     "output_type": "stream",
     "text": [
      "{70, 10, 20, 60}\n"
     ]
    }
   ],
   "source": [
    "first_list = [10, 20, 30, 40, 50]\n",
    "second_list = [30, 40, 50, 60, 70]\n",
    "\n",
    "wronglist = []\n",
    "for i in first_list:\n",
    "    if i in second_list:\n",
    "        wronglist.append(i)\n",
    "        \n",
    "resset = set(first_list + second_list)\n",
    "for i in wronglist:\n",
    "    resset.remove(i)\n",
    "print(resset)"
   ]
  },
  {
   "cell_type": "markdown",
   "id": "d90b2e5c",
   "metadata": {},
   "source": [
    "#### 3.7. Определить, есть ли общие элементы у следующих множеств. Если есть, отобразить их:"
   ]
  },
  {
   "cell_type": "code",
   "execution_count": 58,
   "id": "3fd51ee1",
   "metadata": {
    "ExecuteTime": {
     "end_time": "2023-09-22T09:21:11.477064Z",
     "start_time": "2023-09-22T09:21:11.473217Z"
    }
   },
   "outputs": [
    {
     "name": "stdout",
     "output_type": "stream",
     "text": [
      "{10}\n"
     ]
    }
   ],
   "source": [
    "fisrt_set = {10, 20, 30, 40, 50}\n",
    "second_set = {60, 70, 80, 90, 10}\n",
    "\n",
    "print(fisrt_set.intersection(second_set))"
   ]
  },
  {
   "cell_type": "markdown",
   "id": "321ec2d7",
   "metadata": {},
   "source": [
    "#### 3.8. Обновить первое множество, добавив в него элементы из второго, кроме элементов, присутсвующих в обоих множествах:"
   ]
  },
  {
   "cell_type": "code",
   "execution_count": 61,
   "id": "c9446cbd",
   "metadata": {
    "ExecuteTime": {
     "end_time": "2023-09-22T09:21:11.506376Z",
     "start_time": "2023-09-22T09:21:11.502190Z"
    }
   },
   "outputs": [
    {
     "name": "stdout",
     "output_type": "stream",
     "text": [
      "{50, 20, 70, 40, 10, 60, 30}\n"
     ]
    }
   ],
   "source": [
    "fisrt_set = {10, 20, 30, 40, 50}\n",
    "second_set = {30, 40, 50, 60, 70}\n",
    "\n",
    "for i in second_set:\n",
    "    if i not in fisrt_set.intersection(second_set):\n",
    "        fisrt_set.add(i)\n",
    "        \n",
    "print(fisrt_set)"
   ]
  },
  {
   "cell_type": "markdown",
   "id": "95db525e",
   "metadata": {},
   "source": [
    "#### 3.9. Удалить из первого множества элементы, которые не содержатся и в первом и во втором множестве одновременно:"
   ]
  },
  {
   "cell_type": "code",
   "execution_count": 66,
   "id": "e7ec4417",
   "metadata": {
    "ExecuteTime": {
     "end_time": "2023-09-22T09:21:11.506376Z",
     "start_time": "2023-09-22T09:21:11.502190Z"
    }
   },
   "outputs": [
    {
     "name": "stdout",
     "output_type": "stream",
     "text": [
      "{40, 50, 30}\n"
     ]
    }
   ],
   "source": [
    "fisrt_set = {10, 20, 30, 40, 50}\n",
    "second_set = {30, 40, 50, 60, 70}\n",
    "helpset = fisrt_set.intersection(second_set)\n",
    "set1 = list(fisrt_set)\n",
    "\n",
    "for i in fisrt_set:\n",
    "    if i not in helpset:\n",
    "        set1.remove(i)\n",
    "\n",
    "print(set(set1))"
   ]
  },
  {
   "cell_type": "code",
   "execution_count": null,
   "id": "4df15a6a-66c1-46dd-8053-f45a368e9f12",
   "metadata": {},
   "outputs": [],
   "source": []
  }
 ],
 "metadata": {
  "kernelspec": {
   "display_name": "Python 3 (ipykernel)",
   "language": "python",
   "name": "python3"
  },
  "language_info": {
   "codemirror_mode": {
    "name": "ipython",
    "version": 3
   },
   "file_extension": ".py",
   "mimetype": "text/x-python",
   "name": "python",
   "nbconvert_exporter": "python",
   "pygments_lexer": "ipython3",
   "version": "3.10.11"
  }
 },
 "nbformat": 4,
 "nbformat_minor": 5
}
