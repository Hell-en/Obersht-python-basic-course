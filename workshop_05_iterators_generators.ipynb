{
 "cells": [
  {
   "cell_type": "markdown",
   "id": "97272273",
   "metadata": {},
   "source": [
    "# Workshop 5: Итераторы и генераторы"
   ]
  },
  {
   "cell_type": "markdown",
   "id": "d06c7ff2",
   "metadata": {},
   "source": [
    "## 1. Пересобираем reversed\n",
    "\n",
    "Напишите класс reverse_iter, который принимает в качестве входных данных список (list) и итерируется по нему в обратном порядке."
   ]
  },
  {
   "cell_type": "code",
   "execution_count": 1,
   "id": "394acd49-cdda-4596-908f-879cde4f8290",
   "metadata": {},
   "outputs": [
    {
     "name": "stdout",
     "output_type": "stream",
     "text": [
      "7 4 2 1\n"
     ]
    }
   ],
   "source": [
    "class ReverseIter:\n",
    "    def __init__(self, input_list):\n",
    "        self._input_list = input_list\n",
    "\n",
    "    def __iter__(self):\n",
    "        self._i = 0\n",
    "        self._reversed_list = list(reversed(self._input_list))\n",
    "        return self\n",
    "\n",
    "    def __next__(self):\n",
    "        if self._i >= len(self._input_list):\n",
    "            raise StopIteration\n",
    "        current_element = self._reversed_list[self._i]\n",
    "        self._i += 1\n",
    "        return current_element\n",
    "\n",
    "print(*ReverseIter([1, 2, 4, 7]))"
   ]
  },
  {
   "cell_type": "markdown",
   "id": "f378ffa6",
   "metadata": {},
   "source": [
    "## 2. Генератор имен файлов\n",
    "\n",
    "Напишите программу, которая принимает одно или несколько имен файлов в качестве аргументов командной строки и печатает все имена длиной более 40 символов (с помощью генераторных выражений).."
   ]
  },
  {
   "cell_type": "code",
   "execution_count": 36,
   "id": "4fce283f-660e-4e7d-bcf0-433c104ae6f8",
   "metadata": {},
   "outputs": [
    {
     "name": "stdout",
     "output_type": "stream",
     "text": [
      "C:\\Users\\Лена\\AppData\\Roaming\\jupyter\\runtime\\kernel-e8a61b25-9472-4695-bfbf-8793d71840de.json\n"
     ]
    }
   ],
   "source": [
    "import argparse\n",
    "import os\n",
    "import sys\n",
    "\n",
    "class FileNamesFilter:\n",
    "    def __init__(self, file_names_list):\n",
    "        self._file_names_list = file_names_list\n",
    "\n",
    "    def __iter__(self):\n",
    "        self._i = 0\n",
    "        self._filtered_list = [e for e in self._file_names_list if len(e) >= 40]\n",
    "        return self\n",
    "\n",
    "    def __next__(self):\n",
    "        if self._i >= len(self._filtered_list):\n",
    "            raise StopIteration\n",
    "        current_element = self._filtered_list[self._i]\n",
    "        self._i += 1\n",
    "        return current_element\n",
    "\n",
    "def parse_args():\n",
    "     parser = argparse.ArgumentParser()\n",
    "     parser.add_argument('-f', '--file_names_list', required=True, help='File name')\n",
    "     args = parser.parse_args()\n",
    "     return args\n",
    "\n",
    "\n",
    "#print(sys.argv)\n",
    "\n",
    "sys.argv[2] = 'C:\\\\Users\\\\Лена\\\\AppData\\\\Roaming\\\\jupyter\\\\runtime\\\\kernel-e8a61b25-9472-4695-bfbf-8793d71840de.json'\n",
    "\n",
    "args = parse_args()\n",
    "#print(\"args = \", args)\n",
    "file_names_list = args.file_names_list.split(',')\n",
    "for e in FileNamesFilter(file_names_list):\n",
    "    print(e)"
   ]
  },
  {
   "cell_type": "markdown",
   "id": "fb92b6d8",
   "metadata": {},
   "source": [
    "## 3. Разбиение файла на части\n",
    "\n",
    "Напишите скрипт split.py, который принимает целое число n и имя файла и разбивает его на несколько небольших файлов, каждый из которых содержит n строк."
   ]
  },
  {
   "cell_type": "code",
   "execution_count": 6,
   "id": "8d25563e-ec8e-4654-aa57-38c72a24b501",
   "metadata": {},
   "outputs": [
    {
     "name": "stdout",
     "output_type": "stream",
     "text": [
      "enter n =  2\n"
     ]
    },
    {
     "name": "stdout",
     "output_type": "stream",
     "text": [
      "args =  Namespace(file_names='C:\\\\Users\\\\Лена\\\\AppData\\\\Roaming\\\\jupyter\\\\runtime\\\\kernel-e8a61b25-9472-4695-bfbf-8793d71840de.json')\n",
      "<_io.TextIOWrapper name='file.txt' mode='a' encoding='cp1251'>\n",
      "<_io.TextIOWrapper name='file.txt' mode='a' encoding='cp1251'>\n",
      "<_io.TextIOWrapper name='file.txt' mode='a' encoding='cp1251'>\n",
      "<_io.TextIOWrapper name='file.txt' mode='a' encoding='cp1251'>\n",
      "<_io.TextIOWrapper name='file.txt' mode='a' encoding='cp1251'>\n",
      "<_io.TextIOWrapper name='file.txt' mode='a' encoding='cp1251'>\n",
      "<_io.TextIOWrapper name='file.txt' mode='a' encoding='cp1251'>\n",
      "<_io.TextIOWrapper name='file.txt' mode='a' encoding='cp1251'>\n",
      "<_io.TextIOWrapper name='file.txt' mode='a' encoding='cp1251'>\n",
      "<_io.TextIOWrapper name='file.txt' mode='a' encoding='cp1251'>\n",
      "<_io.TextIOWrapper name='file.txt' mode='a' encoding='cp1251'>\n"
     ]
    }
   ],
   "source": [
    "import argparse\n",
    "\n",
    "class FilesPartition:\n",
    "    def __init__(self, file_name, n):\n",
    "        self._file_name = file_name\n",
    "        self._lines = sum(1 for line in open(file_name))\n",
    "        self._n = n # по сколько в каждый\n",
    "\n",
    "    def __iter__(self):\n",
    "        self._counter = 0 # сколько строк уже раздано\n",
    "        with open(self._file_name) as file:\n",
    "            self._lines = [line.rstrip() for line in file]\n",
    "        return self\n",
    "\n",
    "    def __next__(self):\n",
    "        if self._counter + n >= len(self._lines):\n",
    "            raise StopIteration\n",
    "        f = open(\"file.txt\", \"a\")\n",
    "        f.write(str(self._lines[self._counter*n : self._counter*n+n]))\n",
    "        f.close()\n",
    "        self._counter += 1\n",
    "        return f\n",
    "\n",
    "\n",
    "def parse_args():\n",
    "     parser = argparse.ArgumentParser()\n",
    "     parser.add_argument('-f', '--file_names', required=True, help='File name')\n",
    "     args = parser.parse_args()\n",
    "     return args\n",
    "\n",
    "n = int(input(\"enter n = \"))\n",
    "args = parse_args()\n",
    "print(\"args = \", args)\n",
    "file_names = args.file_names\n",
    "\n",
    "for e in FilesPartition(file_names, n):\n",
    "    print(e)"
   ]
  }
 ],
 "metadata": {
  "kernelspec": {
   "display_name": "Python 3 (ipykernel)",
   "language": "python",
   "name": "python3"
  },
  "language_info": {
   "codemirror_mode": {
    "name": "ipython",
    "version": 3
   },
   "file_extension": ".py",
   "mimetype": "text/x-python",
   "name": "python",
   "nbconvert_exporter": "python",
   "pygments_lexer": "ipython3",
   "version": "3.10.11"
  }
 },
 "nbformat": 4,
 "nbformat_minor": 5
}
