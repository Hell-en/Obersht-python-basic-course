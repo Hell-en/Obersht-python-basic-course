{
 "cells": [
  {
   "cell_type": "markdown",
   "id": "97272273",
   "metadata": {},
   "source": [
    "# Workshop 5: Итераторы и генераторы"
   ]
  },
  {
   "cell_type": "markdown",
   "id": "d06c7ff2",
   "metadata": {},
   "source": [
    "## 1. Пересобираем reversed\n",
    "\n",
    "Напишите класс reverse_iter, который принимает в качестве входных данных список (list) и итерируется по нему в обратном порядке."
   ]
  },
  {
   "cell_type": "code",
   "execution_count": 1,
   "id": "394acd49-cdda-4596-908f-879cde4f8290",
   "metadata": {},
   "outputs": [
    {
     "name": "stdout",
     "output_type": "stream",
     "text": [
      "7 4 2 1\n"
     ]
    }
   ],
   "source": [
    "class ReverseIter:\n",
    "    def __init__(self, input_list):\n",
    "        self._input_list = input_list\n",
    "\n",
    "    def __iter__(self):\n",
    "        self._i = 0\n",
    "        self._reversed_list = list(reversed(self._input_list))\n",
    "        return self\n",
    "\n",
    "    def __next__(self):\n",
    "        if self._i >= len(self._input_list):\n",
    "            raise StopIteration\n",
    "        current_element = self._reversed_list[self._i]\n",
    "        self._i += 1\n",
    "        return current_element\n",
    "\n",
    "print(*ReverseIter([1, 2, 4, 7]))"
   ]
  },
  {
   "cell_type": "markdown",
   "id": "f378ffa6",
   "metadata": {},
   "source": [
    "## 2. Генератор имен файлов\n",
    "\n",
    "Напишите программу, которая принимает одно или несколько имен файлов в качестве аргументов командной строки и печатает все имена длиной более 40 символов (с помощью генераторных выражений).."
   ]
  },
  {
   "cell_type": "code",
   "execution_count": 36,
   "id": "4fce283f-660e-4e7d-bcf0-433c104ae6f8",
   "metadata": {},
   "outputs": [
    {
     "name": "stdout",
     "output_type": "stream",
     "text": [
      "C:\\Users\\Лена\\AppData\\Roaming\\jupyter\\runtime\\kernel-e8a61b25-9472-4695-bfbf-8793d71840de.json\n"
     ]
    }
   ],
   "source": [
    "import argparse\n",
    "import os\n",
    "import sys\n",
    "\n",
    "class FileNamesFilter:\n",
    "    def __init__(self, file_names_list):\n",
    "        self._file_names_list = file_names_list\n",
    "\n",
    "    def __iter__(self):\n",
    "        self._i = 0\n",
    "        self._filtered_list = [e for e in self._file_names_list if len(e) >= 40]\n",
    "        return self\n",
    "\n",
    "    def __next__(self):\n",
    "        if self._i >= len(self._filtered_list):\n",
    "            raise StopIteration\n",
    "        current_element = self._filtered_list[self._i]\n",
    "        self._i += 1\n",
    "        return current_element\n",
    "\n",
    "def parse_args():\n",
    "     parser = argparse.ArgumentParser()\n",
    "     parser.add_argument('-f', '--file_names_list', required=True, help='File name')\n",
    "     args = parser.parse_args()\n",
    "     return args\n",
    "\n",
    "\n",
    "#print(sys.argv)\n",
    "\n",
    "sys.argv[2] = 'C:\\\\Users\\\\Лена\\\\AppData\\\\Roaming\\\\jupyter\\\\runtime\\\\kernel-e8a61b25-9472-4695-bfbf-8793d71840de.json'\n",
    "\n",
    "args = parse_args()\n",
    "#print(\"args = \", args)\n",
    "file_names_list = args.file_names_list.split(',')\n",
    "for e in FileNamesFilter(file_names_list):\n",
    "    print(e)"
   ]
  },
  {
   "cell_type": "markdown",
   "id": "11fbc7f5",
   "metadata": {},
   "source": [
    "## 3. Рекурсивный обход директории\n",
    "\n",
    "Напишите функцию findfiles, которая рекурсивно спускается по дереву каталогов для указанного каталога и генерирует пути ко всем файлам в дереве."
   ]
  },
  {
   "cell_type": "code",
   "execution_count": null,
   "id": "db8d9229-139a-40a2-902e-b1ed2ac4c1ea",
   "metadata": {},
   "outputs": [],
   "source": [
    "import argparse\n",
    "import os\n",
    "import sys\n",
    "\n",
    "class GenPaths:\n",
    "    def __init__(self, project_path):\n",
    "        self._project_path = project_path\n",
    "\n",
    "    def __iter__(self):\n",
    "        self._path_list = []\n",
    "        self._i = 0\n",
    "        for root, dirs, files in os.walk(self._project_path):\n",
    "            for name in files:\n",
    "                self._path_list.append(os.path.join(root, name))\n",
    "        return self\n",
    "\n",
    "    def __next__(self):\n",
    "        self._i += 1\n",
    "        return self._path_list[self._i]\n",
    "    \n",
    "\n",
    "def parse_args():\n",
    "    parser = argparse.ArgumentParser()\n",
    "  #  parser.add_argument('-p', '--path', required=True)\n",
    "    parser.add_argument('-p', '--path', required=False, default='C:\\\\Users\\\\Лена\\\\AppData')\n",
    "    args = parser.parse_args()\n",
    "    return args\n",
    "\n",
    "\n",
    "sys.argv[1] = '-p'\n",
    "sys.argv[2] = 'C:\\\\Users\\\\Лена\\\\AppData'\n",
    "#print(sys.argv)\n",
    "\n",
    "args = parse_args()\n",
    "#print(\"args = \", args)\n",
    "path = args.path\n",
    "for e in GenPaths(path):\n",
    "    print(e)"
   ]
  },
  {
   "cell_type": "markdown",
   "id": "fb92b6d8",
   "metadata": {},
   "source": [
    "## 4. Разбиение файла на части\n",
    "\n",
    "Напишите скрипт split.py, который принимает целое число n и имя файла и разбивает его на несколько небольших файлов, каждый из которых содержит n строк."
   ]
  },
  {
   "cell_type": "code",
   "execution_count": 6,
   "id": "8d25563e-ec8e-4654-aa57-38c72a24b501",
   "metadata": {},
   "outputs": [
    {
     "name": "stdin",
     "output_type": "stream",
     "text": [
      "enter n =  2\n"
     ]
    },
    {
     "name": "stdout",
     "output_type": "stream",
     "text": [
      "args =  Namespace(file_names='C:\\\\Users\\\\Лена\\\\AppData\\\\Roaming\\\\jupyter\\\\runtime\\\\kernel-e8a61b25-9472-4695-bfbf-8793d71840de.json')\n",
      "<_io.TextIOWrapper name='file.txt' mode='a' encoding='cp1251'>\n",
      "<_io.TextIOWrapper name='file.txt' mode='a' encoding='cp1251'>\n",
      "<_io.TextIOWrapper name='file.txt' mode='a' encoding='cp1251'>\n",
      "<_io.TextIOWrapper name='file.txt' mode='a' encoding='cp1251'>\n",
      "<_io.TextIOWrapper name='file.txt' mode='a' encoding='cp1251'>\n",
      "<_io.TextIOWrapper name='file.txt' mode='a' encoding='cp1251'>\n",
      "<_io.TextIOWrapper name='file.txt' mode='a' encoding='cp1251'>\n",
      "<_io.TextIOWrapper name='file.txt' mode='a' encoding='cp1251'>\n",
      "<_io.TextIOWrapper name='file.txt' mode='a' encoding='cp1251'>\n",
      "<_io.TextIOWrapper name='file.txt' mode='a' encoding='cp1251'>\n",
      "<_io.TextIOWrapper name='file.txt' mode='a' encoding='cp1251'>\n"
     ]
    }
   ],
   "source": [
    "import argparse\n",
    "\n",
    "class FilesPartition:\n",
    "    def __init__(self, file_name, n):\n",
    "        self._file_name = file_name\n",
    "        self._lines = sum(1 for line in open(file_name))\n",
    "        self._n = n # по сколько в каждый\n",
    "\n",
    "    def __iter__(self):\n",
    "        self._counter = 0 # сколько строк уже раздано\n",
    "        with open(self._file_name) as file:\n",
    "            self._lines = [line.rstrip() for line in file]\n",
    "        return self\n",
    "\n",
    "    def __next__(self):\n",
    "        if self._counter + n >= len(self._lines):\n",
    "            raise StopIteration\n",
    "        f = open(\"file.txt\", \"a\")\n",
    "        f.write(str(self._lines[self._counter*n : self._counter*n+n]))\n",
    "        f.close()\n",
    "        self._counter += 1\n",
    "        return f\n",
    "\n",
    "\n",
    "def parse_args():\n",
    "     parser = argparse.ArgumentParser()\n",
    "     parser.add_argument('-f', '--file_names', required=True, help='File name')\n",
    "     args = parser.parse_args()\n",
    "     return args\n",
    "\n",
    "n = int(input(\"enter n = \"))\n",
    "args = parse_args()\n",
    "print(\"args = \", args)\n",
    "file_names = args.file_names\n",
    "\n",
    "for e in FilesPartition(file_names, n):\n",
    "    print(e)"
   ]
  },
  {
   "cell_type": "markdown",
   "id": "79bf7180",
   "metadata": {},
   "source": [
    "## 5. Подсчет числа строк в всех файлах проекта\n",
    "\n",
    "Напишите функцию для рекурсивного вычисления общего количества строк кода, игнорируя пустые строки и строки комментариев, во всех файлах python в указанном каталоге."
   ]
  },
  {
   "cell_type": "code",
   "execution_count": 70,
   "id": "70d7d581-1d3d-43c2-a684-49a946bf442e",
   "metadata": {},
   "outputs": [],
   "source": [
    "import argparse\n",
    "import os\n",
    "\n",
    "class LinesCounter:\n",
    "    def __init__(self, project_path):\n",
    "        self._project_path = project_path\n",
    "\n",
    "    def __iter__(self):\n",
    "        self._i = 0\n",
    "        self._line_counter = 0\n",
    "        for root, dirs, files in os.walk(self._project_path):\n",
    "            for file in files:\n",
    "                if file.endswith((\".py\", \".ipynb\")):  # check file name\n",
    "                    with open(file) as f:\n",
    "                        ss = f.read().split('\\n')\n",
    "                        for s in ss:\n",
    "                            if not line or line.startswith('#') or line.isspace():\n",
    "                                continue\n",
    "                            self._line_counter += 1\n",
    "        return self\n",
    "\n",
    "    def __next__(self):  # переход к след каталогу\n",
    "        for root, dirs, files in os.walk(self._project_path):\n",
    "            if len(dirs) > 0:\n",
    "                raise StopIteration\n",
    "        self._i += 1\n",
    "        return self._line_counter\n",
    "\n",
    "\n",
    "def directory(raw_path):\n",
    "    if not os.path.isdir(raw_path):\n",
    "        raise argparse.ArgumentTypeError('\"{}\" is not an existing directory'.format(raw_path))\n",
    "    return os.path.abspath(raw_path)\n",
    "\n",
    "def parse_args():\n",
    "    parser = argparse.ArgumentParser()\n",
    "    parser.add_argument('-p', '--path', required=False, default='C:\\\\Users\\\\Лена\\\\.ipython')\n",
    "    args = parser.parse_args()\n",
    "    return args\n",
    "\n",
    "sys.argv[1] = '-p'\n",
    "sys.argv[2] = 'C:\\\\Users\\\\Лена\\\\Desktop\\\\НГУ мага'\n",
    "\n",
    "args = parse_args()\n",
    "path = args.path.strip('\"')\n",
    "for e in LinesCounter(path):\n",
    "    print(e)"
   ]
  }
 ],
 "metadata": {
  "kernelspec": {
   "display_name": "Python 3 (ipykernel)",
   "language": "python",
   "name": "python3"
  },
  "language_info": {
   "codemirror_mode": {
    "name": "ipython",
    "version": 3
   },
   "file_extension": ".py",
   "mimetype": "text/x-python",
   "name": "python",
   "nbconvert_exporter": "python",
   "pygments_lexer": "ipython3",
   "version": "3.10.11"
  }
 },
 "nbformat": 4,
 "nbformat_minor": 5
}
